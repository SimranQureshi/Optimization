{
    "cells": [
        {
            "metadata": {},
            "cell_type": "code",
            "source": "!pip install watson-machine-learning-client-V4",
            "execution_count": 119,
            "outputs": [
                {
                    "output_type": "stream",
                    "text": "Requirement already satisfied: watson-machine-learning-client-V4 in /opt/conda/envs/Python36/lib/python3.6/site-packages (1.0.60)\nRequirement already satisfied: pandas in /opt/conda/envs/Python36/lib/python3.6/site-packages (from watson-machine-learning-client-V4) (0.24.1)\nRequirement already satisfied: requests in /opt/conda/envs/Python36/lib/python3.6/site-packages (from watson-machine-learning-client-V4) (2.21.0)\nRequirement already satisfied: tabulate in /opt/conda/envs/Python36/lib/python3.6/site-packages (from watson-machine-learning-client-V4) (0.8.2)\nRequirement already satisfied: ibm-cos-sdk in /opt/conda/envs/Python36/lib/python3.6/site-packages (from watson-machine-learning-client-V4) (2.4.3)\nRequirement already satisfied: urllib3 in /opt/conda/envs/Python36/lib/python3.6/site-packages (from watson-machine-learning-client-V4) (1.24.1)\nRequirement already satisfied: certifi in /opt/conda/envs/Python36/lib/python3.6/site-packages (from watson-machine-learning-client-V4) (2019.11.28)\nRequirement already satisfied: lomond in /opt/conda/envs/Python36/lib/python3.6/site-packages (from watson-machine-learning-client-V4) (0.3.3)\nRequirement already satisfied: tqdm in /opt/conda/envs/Python36/lib/python3.6/site-packages (from watson-machine-learning-client-V4) (4.31.1)\nRequirement already satisfied: python-dateutil>=2.5.0 in /opt/conda/envs/Python36/lib/python3.6/site-packages (from pandas->watson-machine-learning-client-V4) (2.7.5)\nRequirement already satisfied: numpy>=1.12.0 in /opt/conda/envs/Python36/lib/python3.6/site-packages (from pandas->watson-machine-learning-client-V4) (1.15.4)\nRequirement already satisfied: pytz>=2011k in /opt/conda/envs/Python36/lib/python3.6/site-packages (from pandas->watson-machine-learning-client-V4) (2018.9)\nRequirement already satisfied: idna<2.9,>=2.5 in /opt/conda/envs/Python36/lib/python3.6/site-packages (from requests->watson-machine-learning-client-V4) (2.8)\nRequirement already satisfied: chardet<3.1.0,>=3.0.2 in /opt/conda/envs/Python36/lib/python3.6/site-packages (from requests->watson-machine-learning-client-V4) (3.0.4)\nRequirement already satisfied: ibm-cos-sdk-s3transfer==2.*,>=2.0.0 in /opt/conda/envs/Python36/lib/python3.6/site-packages (from ibm-cos-sdk->watson-machine-learning-client-V4) (2.4.3)\nRequirement already satisfied: ibm-cos-sdk-core==2.*,>=2.0.0 in /opt/conda/envs/Python36/lib/python3.6/site-packages (from ibm-cos-sdk->watson-machine-learning-client-V4) (2.4.3)\nRequirement already satisfied: six>=1.10.0 in /opt/conda/envs/Python36/lib/python3.6/site-packages (from lomond->watson-machine-learning-client-V4) (1.12.0)\nRequirement already satisfied: docutils>=0.10 in /opt/conda/envs/Python36/lib/python3.6/site-packages (from ibm-cos-sdk-core==2.*,>=2.0.0->ibm-cos-sdk->watson-machine-learning-client-V4) (0.14)\nRequirement already satisfied: jmespath<1.0.0,>=0.7.1 in /opt/conda/envs/Python36/lib/python3.6/site-packages (from ibm-cos-sdk-core==2.*,>=2.0.0->ibm-cos-sdk->watson-machine-learning-client-V4) (0.9.3)\n",
                    "name": "stdout"
                }
            ]
        },
        {
            "metadata": {},
            "cell_type": "code",
            "source": "from watson_machine_learning_client import WatsonMachineLearningAPIClient",
            "execution_count": 120,
            "outputs": []
        },
        {
            "metadata": {},
            "cell_type": "code",
            "source": "wml_credentials = {\n    \"apikey\": \"SLX4l5rDsGs8Y2gCWFeDNyC16Hk5DPWmOoITnMr6Lj-8\",\n    \"instance_id\": \"427ba6b1-1adc-464f-be84-4203fd4321f7\",\n    \"url\": \"https://us-south.ml.cloud.ibm.com\",\n}",
            "execution_count": 121,
            "outputs": []
        },
        {
            "metadata": {},
            "cell_type": "code",
            "source": "client = WatsonMachineLearningAPIClient(wml_credentials)",
            "execution_count": 122,
            "outputs": []
        },
        {
            "metadata": {},
            "cell_type": "code",
            "source": "log('Authenticating for WML')\n\ndef loginWML():\n    data = 'apikey='+wml_credentials[\"apikey\"]+'&grant_type=urn%3Aibm%3Aparams%3Aoauth%3Agrant-type%3Aapikey'\n    myauthheaders = {\n        'Content-Type': 'application/x-www-form-urlencoded',\n        'Authorization': 'Basic Yng6Yng='\n    }\n    r = requests.post(\"https://iam.cloud.ibm.com/identity/token\", headers=myauthheaders, data=data)\n    res = json.loads(r.text)\n    return res['access_token']\n    \nwml_token = loginWML();\n\nlog('Getting DO runtime')\n\nmywmlheaders = {\n    'Authorization': 'Bearer '+wml_token,\n    'ML-Instance-ID': wml_credentials[\"instance_id\"],\n    'Content-Type': 'application/json',\n    'cache-control': 'no-cache'\n}\n\ndef getDORuntime():    \n    r = requests.get(wml_credentials[\"url\"] + '/v4/runtimes?runtime.name=do_12.9', headers=mywmlheaders)\n    res = json.loads(r.text)\n    return res['resources'][0]['metadata']['href']\n\n#runtime = getDORuntime()\nruntime = '/v4/runtimes/do_12.9'\n\nprint (\"runtime: \"+runtime)",
            "execution_count": 123,
            "outputs": [
                {
                    "output_type": "stream",
                    "text": "Authenticating for WML \t\tDuration: 71.38 \tTotal: 5086.21 (sec.)\nGetting DO runtime \t\tDuration: 0.4 \tTotal: 5086.61 (sec.)\nruntime: /v4/runtimes/do_12.9\n",
                    "name": "stdout"
                }
            ]
        },
        {
            "metadata": {},
            "cell_type": "code",
            "source": "cos_credentials = {\n    \"apikey\": \"j-K5n-vX4joK8TDmCOcwxebCcGOxEC8G_U1JuOg2-JM6\",\n    \"bucket\": \"productionoplmodel-donotdelete-pr-pi3c8bpsesbd17\",\n    \"key\": \"a544085e34dff72513edfdcfc0052800b8bce17f3b5100d6\",\n    \"id\": \"b423b2554da648a4b9204ebf0f6e3074\",\n    \"url\": \"https://s3-api.us-geo.objectstorage.softlayer.net\",\n}",
            "execution_count": 124,
            "outputs": []
        },
        {
            "metadata": {},
            "cell_type": "code",
            "source": "log('Authenticating for Cloud Object Storage')\n\ndef loginCOS():\n\n    myiamheaders = {\n        'Accept': 'application/json',\n        'Content-Type': 'application/x-www-form-urlencoded'\n    }\n\n    payload = {\n        'apikey': cos_credentials[\"apikey\"],\n        'response_type': 'cloud_iam',\n        'grant_type':'urn:ibm:params:oauth:grant-type:apikey'\n    }\n\n    r = requests.post('https://iam.cloud.ibm.com/oidc/token', headers=myiamheaders, data=payload)\n\n    res = json.loads(r.text)\n    return res['access_token']\n\ncos_token = loginCOS();\n\nmycosheaders = {\n    'Authorization': 'bearer ' + cos_token,\n    'Content-Type': 'text/plain'\n}",
            "execution_count": 125,
            "outputs": [
                {
                    "output_type": "stream",
                    "text": "Authenticating for Cloud Object Storage \t\tDuration: 3.4 \tTotal: 5090.01 (sec.)\n",
                    "name": "stdout"
                }
            ]
        },
        {
            "metadata": {},
            "cell_type": "code",
            "source": "MY_MODEL = 'DietLP'\nMY_TYPE='do-opl_12.9'\n\nlog('Creating model ' + MY_MODEL)\n\npayload = {\n    'name': MY_MODEL,\n    'description': MY_MODEL,\n    'type': MY_TYPE,\n    'runtime': {\n        'href': runtime\n    }\n}\n\nr = requests.post(wml_credentials[\"url\"] + '/v4/models', headers=mywmlheaders, json=payload)\nres = json.loads(r.text)\nmodel_uid = res['metadata']['guid']\nmodel_rev = res['metadata']['href'].split('=')[-1]\n\nprint (\"model_uid: \" + model_uid)\n\nlog('Created model')",
            "execution_count": 126,
            "outputs": [
                {
                    "output_type": "stream",
                    "text": "Creating model DietLP \t\tDuration: 1.04 \tTotal: 5091.05 (sec.)\nmodel_uid: 580c45ec-2da6-426e-8403-7c8b42a907dc\nCreated model \t\tDuration: 0.52 \tTotal: 5091.56 (sec.)\n",
                    "name": "stdout"
                }
            ]
        },
        {
            "metadata": {},
            "cell_type": "code",
            "source": "payload = {\n    'asset': {\n        'href': '/v4/models/'+model_uid+'?rev='+model_rev\n    },\n    'name': MY_MODEL,\n    'batch': {},\n    'compute': {\n        'name': 'S',\n        'nodes': 1\n    }\n}\nmywmlheaders['Content-Type'] = 'application/json'\nr = requests.post(wml_credentials[\"url\"] + '/v4/deployments', headers=mywmlheaders, json=payload)\n\nres = json.loads(r.text)\ndeployment_uid = res['metadata']['guid']\n\nprint (\"deployment_uid :\" + deployment_uid)\n\nlog('Deployed model ' + MY_MODEL)",
            "execution_count": 127,
            "outputs": [
                {
                    "output_type": "stream",
                    "text": "deployment_uid :29b51be7-0de4-42d4-8f1f-46da50a47c6e\nDeployed model DietLP \t\tDuration: 1.04 \tTotal: 5092.6 (sec.)\n",
                    "name": "stdout"
                }
            ]
        },
        {
            "metadata": {},
            "cell_type": "code",
            "source": "log('Creating Job')\n\npayload = {\n    'deployment': {\n            'href':'/v4/deployments/'+deployment_uid\n    },\n    'decision_optimization' : {\n        'solve_parameters' : {\n            'oaas.logAttachmentName':'log.txt',\n            'oaas.logTailEnabled':'true',\n           # 'oaas.resultsFormat': 'JSON'\n        },\n        'input_data_references': [\n             {\n                    'id':'model.mod',\n                    'type': 's3',\n                    'connection': {\n                        'endpoint_url': cos_credentials[\"url\"],\n                        'access_key_id': cos_credentials[\"id\"],\n                        'secret_access_key': cos_credentials[\"key\"]\n                    },\n                    'location': {\n                        'bucket': cos_credentials[\"bucket\"],\n                        'path': 'model.mod'\n                    }\n                },\n             {\n                    'id':'Products.csv',\n                    'type': 's3',\n                    'connection': {\n                        'endpoint_url': cos_credentials[\"url\"],\n                        'access_key_id': cos_credentials[\"id\"],\n                        'secret_access_key': cos_credentials[\"key\"]\n                    },\n                    'location': {\n                        'bucket': cos_credentials[\"bucket\"],\n                        'path': 'Products.csv'\n                    }\n                },\n             {\n                    'id':'Resources.csv',\n                    'type': 's3',\n                    'connection': {\n                        'endpoint_url': cos_credentials[\"url\"],\n                        'access_key_id': cos_credentials[\"id\"],\n                        'secret_access_key': cos_credentials[\"key\"]\n                    },\n                    'location': {\n                        'bucket': cos_credentials[\"bucket\"],\n                        'path': 'Resources.csv'\n                    }\n                },\n             {\n                    'id':'Consumptions.csv',\n                    'type': 's3',\n                    'connection': {\n                        'endpoint_url': cos_credentials[\"url\"],\n                        'access_key_id': cos_credentials[\"id\"],\n                        'secret_access_key': cos_credentials[\"key\"]\n                    },\n                    'location': {\n                        'bucket': cos_credentials[\"bucket\"],\n                        'path': 'Consumptions.csv'\n                    }\n                },\n        ],\n        'output_data_references': [\n                {\n                    'id':'plan.csv',\n                    'type': 's3',\n                    'connection': {\n                        'endpoint_url': cos_credentials[\"url\"],\n                        'access_key_id': cos_credentials[\"id\"],\n                        'secret_access_key': cos_credentials[\"key\"]\n                    },\n                    'location': {\n                        'bucket': cos_credentials[\"bucket\"],\n                        'path': 'plan.csv'\n                    }\n                },\n                {\n                    'id':'log.txt',\n                    'type': 's3',\n                    'connection': {\n                        'endpoint_url': cos_credentials[\"url\"],\n                        'access_key_id': cos_credentials[\"id\"],\n                        'secret_access_key': cos_credentials[\"key\"]\n                    },\n                    'location': {\n                        'bucket': cos_credentials[\"bucket\"],\n                        'path': 'log.txt'\n                    }\n                }\n            ]\n    }\n}\nr = requests.post(wml_credentials[\"url\"] + '/v4/jobs', headers=mywmlheaders, json=payload)\nres = json.loads(r.text)\njob_uid = res['metadata']['guid']\n\nprint (\"JobId: \" + job_uid)",
            "execution_count": 136,
            "outputs": [
                {
                    "output_type": "stream",
                    "text": "Creating Job \t\tDuration: 12.15 \tTotal: 5397.09 (sec.)\nJobId: 4bdec2dc-00de-4c67-b7bf-a1256d705c2d\n",
                    "name": "stdout"
                }
            ]
        },
        {
            "metadata": {},
            "cell_type": "code",
            "source": "from time import sleep\n\n# MONITOR\n\nexecution_status = \"\"\n\nwhile ((execution_status != \"failed\") & (execution_status != \"completed\")):\n    r = requests.get(wml_credentials[\"url\"] + '/v4/jobs/' + job_uid, headers=mywmlheaders)\n    res = json.loads(r.text)\n    sleep(1)\n    execution_status = res['entity']['decision_optimization']['status']['state']\n    log('Executing ' + execution_status)\n\nlog('End of solve')",
            "execution_count": 137,
            "outputs": [
                {
                    "output_type": "stream",
                    "text": "Executing running \t\tDuration: 1.67 \tTotal: 5398.76 (sec.)\nExecuting running \t\tDuration: 1.11 \tTotal: 5399.87 (sec.)\nExecuting completed \t\tDuration: 1.08 \tTotal: 5400.96 (sec.)\nEnd of solve \t\tDuration: 0.0 \tTotal: 5400.96 (sec.)\n",
                    "name": "stdout"
                }
            ]
        },
        {
            "metadata": {},
            "cell_type": "code",
            "source": "client.deployments.delete(deployment_uid )",
            "execution_count": 118,
            "outputs": [
                {
                    "output_type": "stream",
                    "text": "{\"trace\":\"253fa79f765f69f5c6db3e113b2fd55a\",\"errors\":[{\"code\":\"deployment_does_not_exists\",\"message\":\"Deployment for model '6bd2d5a7-2044-4b4c-a220-415e43da3cc2' doesn't exists. Cannot delete non existing deployment\"}]}\n",
                    "name": "stdout"
                },
                {
                    "output_type": "execute_result",
                    "execution_count": 118,
                    "data": {
                        "text/plain": "'FAILED'"
                    },
                    "metadata": {}
                }
            ]
        },
        {
            "metadata": {},
            "cell_type": "code",
            "source": "",
            "execution_count": null,
            "outputs": []
        }
    ],
    "metadata": {
        "kernelspec": {
            "name": "python3",
            "display_name": "Python 3.6",
            "language": "python"
        },
        "language_info": {
            "name": "python",
            "version": "3.6.9",
            "mimetype": "text/x-python",
            "codemirror_mode": {
                "name": "ipython",
                "version": 3
            },
            "pygments_lexer": "ipython3",
            "nbconvert_exporter": "python",
            "file_extension": ".py"
        }
    },
    "nbformat": 4,
    "nbformat_minor": 1
}