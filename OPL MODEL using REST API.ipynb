{
    "cells": [
        {
            "cell_type": "code",
            "execution_count": 138,
            "metadata": {},
            "outputs": [
                {
                    "name": "stdout",
                    "output_type": "stream",
                    "text": "Requirement already satisfied: watson-machine-learning-client-V4 in /opt/conda/envs/Python36/lib/python3.6/site-packages (1.0.60)\nRequirement already satisfied: pandas in /opt/conda/envs/Python36/lib/python3.6/site-packages (from watson-machine-learning-client-V4) (0.24.1)\nRequirement already satisfied: tabulate in /opt/conda/envs/Python36/lib/python3.6/site-packages (from watson-machine-learning-client-V4) (0.8.2)\nRequirement already satisfied: lomond in /opt/conda/envs/Python36/lib/python3.6/site-packages (from watson-machine-learning-client-V4) (0.3.3)\nRequirement already satisfied: urllib3 in /opt/conda/envs/Python36/lib/python3.6/site-packages (from watson-machine-learning-client-V4) (1.24.1)\nRequirement already satisfied: ibm-cos-sdk in /opt/conda/envs/Python36/lib/python3.6/site-packages (from watson-machine-learning-client-V4) (2.4.3)\nRequirement already satisfied: certifi in /opt/conda/envs/Python36/lib/python3.6/site-packages (from watson-machine-learning-client-V4) (2019.11.28)\nRequirement already satisfied: tqdm in /opt/conda/envs/Python36/lib/python3.6/site-packages (from watson-machine-learning-client-V4) (4.31.1)\nRequirement already satisfied: requests in /opt/conda/envs/Python36/lib/python3.6/site-packages (from watson-machine-learning-client-V4) (2.21.0)\nRequirement already satisfied: numpy>=1.12.0 in /opt/conda/envs/Python36/lib/python3.6/site-packages (from pandas->watson-machine-learning-client-V4) (1.15.4)\nRequirement already satisfied: python-dateutil>=2.5.0 in /opt/conda/envs/Python36/lib/python3.6/site-packages (from pandas->watson-machine-learning-client-V4) (2.7.5)\nRequirement already satisfied: pytz>=2011k in /opt/conda/envs/Python36/lib/python3.6/site-packages (from pandas->watson-machine-learning-client-V4) (2018.9)\nRequirement already satisfied: six>=1.10.0 in /opt/conda/envs/Python36/lib/python3.6/site-packages (from lomond->watson-machine-learning-client-V4) (1.12.0)\nRequirement already satisfied: ibm-cos-sdk-core==2.*,>=2.0.0 in /opt/conda/envs/Python36/lib/python3.6/site-packages (from ibm-cos-sdk->watson-machine-learning-client-V4) (2.4.3)\nRequirement already satisfied: ibm-cos-sdk-s3transfer==2.*,>=2.0.0 in /opt/conda/envs/Python36/lib/python3.6/site-packages (from ibm-cos-sdk->watson-machine-learning-client-V4) (2.4.3)\nRequirement already satisfied: chardet<3.1.0,>=3.0.2 in /opt/conda/envs/Python36/lib/python3.6/site-packages (from requests->watson-machine-learning-client-V4) (3.0.4)\nRequirement already satisfied: idna<2.9,>=2.5 in /opt/conda/envs/Python36/lib/python3.6/site-packages (from requests->watson-machine-learning-client-V4) (2.8)\nRequirement already satisfied: jmespath<1.0.0,>=0.7.1 in /opt/conda/envs/Python36/lib/python3.6/site-packages (from ibm-cos-sdk-core==2.*,>=2.0.0->ibm-cos-sdk->watson-machine-learning-client-V4) (0.9.3)\nRequirement already satisfied: docutils>=0.10 in /opt/conda/envs/Python36/lib/python3.6/site-packages (from ibm-cos-sdk-core==2.*,>=2.0.0->ibm-cos-sdk->watson-machine-learning-client-V4) (0.14)\n"
                }
            ],
            "source": "!pip install watson-machine-learning-client-V4"
        },
        {
            "cell_type": "code",
            "execution_count": 139,
            "metadata": {},
            "outputs": [],
            "source": "from watson_machine_learning_client import WatsonMachineLearningAPIClient"
        },
        {
            "cell_type": "code",
            "execution_count": 140,
            "metadata": {},
            "outputs": [],
            "source": "wml_credentials = {\n    \"apikey\": \"SLX4l5rDsGs8Y2gCWFeDNyC16Hk5DPWmOoITnMr6Lj-8\",\n    \"instance_id\": \"427ba6b1-1adc-464f-be84-4203fd4321f7\",\n    \"url\": \"https://us-south.ml.cloud.ibm.com\",\n}"
        },
        {
            "cell_type": "code",
            "execution_count": 141,
            "metadata": {},
            "outputs": [],
            "source": "client = WatsonMachineLearningAPIClient(wml_credentials)"
        },
        {
            "cell_type": "code",
            "execution_count": 142,
            "metadata": {},
            "outputs": [
                {
                    "name": "stdout",
                    "output_type": "stream",
                    "text": "Authenticating for WML \t\tDuration: 6648.69 \tTotal: 12049.65 (sec.)\nGetting DO runtime \t\tDuration: 0.36 \tTotal: 12050.01 (sec.)\nruntime: /v4/runtimes/do_12.9\n"
                }
            ],
            "source": "log('Authenticating for WML')\n\ndef loginWML():\n    data = 'apikey='+wml_credentials[\"apikey\"]+'&grant_type=urn%3Aibm%3Aparams%3Aoauth%3Agrant-type%3Aapikey'\n    myauthheaders = {\n        'Content-Type': 'application/x-www-form-urlencoded',\n        'Authorization': 'Basic Yng6Yng='\n    }\n    r = requests.post(\"https://iam.cloud.ibm.com/identity/token\", headers=myauthheaders, data=data)\n    res = json.loads(r.text)\n    return res['access_token']\n    \nwml_token = loginWML();\n\nlog('Getting DO runtime')\n\nmywmlheaders = {\n    'Authorization': 'Bearer '+wml_token,\n    'ML-Instance-ID': wml_credentials[\"instance_id\"],\n    'Content-Type': 'application/json',\n    'cache-control': 'no-cache'\n}\n\ndef getDORuntime():    \n    r = requests.get(wml_credentials[\"url\"] + '/v4/runtimes?runtime.name=do_12.9', headers=mywmlheaders)\n    res = json.loads(r.text)\n    return res['resources'][0]['metadata']['href']\n\n#runtime = getDORuntime()\nruntime = '/v4/runtimes/do_12.9'\n\nprint (\"runtime: \"+runtime)"
        },
        {
            "cell_type": "code",
            "execution_count": 143,
            "metadata": {},
            "outputs": [],
            "source": "cos_credentials = {\n    \"apikey\": \"j-K5n-vX4joK8TDmCOcwxebCcGOxEC8G_U1JuOg2-JM6\",\n    \"bucket\": \"productionoplmodel-donotdelete-pr-pi3c8bpsesbd17\",\n    \"key\": \"a544085e34dff72513edfdcfc0052800b8bce17f3b5100d6\",\n    \"id\": \"b423b2554da648a4b9204ebf0f6e3074\",\n    \"url\": \"https://s3-api.us-geo.objectstorage.softlayer.net\",\n}"
        },
        {
            "cell_type": "code",
            "execution_count": 144,
            "metadata": {},
            "outputs": [
                {
                    "name": "stdout",
                    "output_type": "stream",
                    "text": "Authenticating for Cloud Object Storage \t\tDuration: 2.77 \tTotal: 12052.78 (sec.)\n"
                }
            ],
            "source": "log('Authenticating for Cloud Object Storage')\n\ndef loginCOS():\n\n    myiamheaders = {\n        'Accept': 'application/json',\n        'Content-Type': 'application/x-www-form-urlencoded'\n    }\n\n    payload = {\n        'apikey': cos_credentials[\"apikey\"],\n        'response_type': 'cloud_iam',\n        'grant_type':'urn:ibm:params:oauth:grant-type:apikey'\n    }\n\n    r = requests.post('https://iam.cloud.ibm.com/oidc/token', headers=myiamheaders, data=payload)\n\n    res = json.loads(r.text)\n    return res['access_token']\n\ncos_token = loginCOS();\n\nmycosheaders = {\n    'Authorization': 'bearer ' + cos_token,\n    'Content-Type': 'text/plain'\n}"
        },
        {
            "cell_type": "code",
            "execution_count": 145,
            "metadata": {},
            "outputs": [
                {
                    "name": "stdout",
                    "output_type": "stream",
                    "text": "Creating model DietLP \t\tDuration: 1.2 \tTotal: 12053.98 (sec.)\nmodel_uid: c975c8af-ff24-4ffe-b399-21c3693c7c09\nCreated model \t\tDuration: 1.24 \tTotal: 12055.22 (sec.)\n"
                }
            ],
            "source": "MY_MODEL = 'DietLP'\nMY_TYPE='do-opl_12.9'\n\nlog('Creating model ' + MY_MODEL)\n\npayload = {\n    'name': MY_MODEL,\n    'description': MY_MODEL,\n    'type': MY_TYPE,\n    'runtime': {\n        'href': runtime\n    }\n}\n\nr = requests.post(wml_credentials[\"url\"] + '/v4/models', headers=mywmlheaders, json=payload)\nres = json.loads(r.text)\nmodel_uid = res['metadata']['guid']\nmodel_rev = res['metadata']['href'].split('=')[-1]\n\nprint (\"model_uid: \" + model_uid)\n\nlog('Created model')"
        },
        {
            "cell_type": "code",
            "execution_count": 146,
            "metadata": {},
            "outputs": [
                {
                    "name": "stdout",
                    "output_type": "stream",
                    "text": "deployment_uid :10ee417e-9ea4-4b67-9ff1-ce021dec3e9a\nDeployed model DietLP \t\tDuration: 1.04 \tTotal: 12056.26 (sec.)\n"
                }
            ],
            "source": "payload = {\n    'asset': {\n        'href': '/v4/models/'+model_uid+'?rev='+model_rev\n    },\n    'name': MY_MODEL,\n    'batch': {},\n    'compute': {\n        'name': 'S',\n        'nodes': 1\n    }\n}\nmywmlheaders['Content-Type'] = 'application/json'\nr = requests.post(wml_credentials[\"url\"] + '/v4/deployments', headers=mywmlheaders, json=payload)\n\nres = json.loads(r.text)\ndeployment_uid = res['metadata']['guid']\n\nprint (\"deployment_uid :\" + deployment_uid)\n\nlog('Deployed model ' + MY_MODEL)"
        },
        {
            "cell_type": "code",
            "execution_count": 147,
            "metadata": {},
            "outputs": [
                {
                    "name": "stdout",
                    "output_type": "stream",
                    "text": "Creating Job \t\tDuration: 1.22 \tTotal: 12057.48 (sec.)\nJobId: 6f0284f5-32d5-4e74-b20a-a57455225d84\n"
                }
            ],
            "source": "log('Creating Job')\n\npayload = {\n    'deployment': {\n            'href':'/v4/deployments/'+deployment_uid\n    },\n    'decision_optimization' : {\n        'solve_parameters' : {\n            'oaas.logAttachmentName':'log.txt',\n            'oaas.logTailEnabled':'true',\n           # 'oaas.resultsFormat': 'JSON'\n        },\n        'input_data_references': [\n             {\n                    'id':'model.mod',\n                    'type': 's3',\n                    'connection': {\n                        'endpoint_url': cos_credentials[\"url\"],\n                        'access_key_id': cos_credentials[\"id\"],\n                        'secret_access_key': cos_credentials[\"key\"]\n                    },\n                    'location': {\n                        'bucket': cos_credentials[\"bucket\"],\n                        'path': 'model.mod'\n                    }\n                },\n             {\n                    'id':'Products.csv',\n                    'type': 's3',\n                    'connection': {\n                        'endpoint_url': cos_credentials[\"url\"],\n                        'access_key_id': cos_credentials[\"id\"],\n                        'secret_access_key': cos_credentials[\"key\"]\n                    },\n                    'location': {\n                        'bucket': cos_credentials[\"bucket\"],\n                        'path': 'Products.csv'\n                    }\n                },\n             {\n                    'id':'Resources.csv',\n                    'type': 's3',\n                    'connection': {\n                        'endpoint_url': cos_credentials[\"url\"],\n                        'access_key_id': cos_credentials[\"id\"],\n                        'secret_access_key': cos_credentials[\"key\"]\n                    },\n                    'location': {\n                        'bucket': cos_credentials[\"bucket\"],\n                        'path': 'Resources.csv'\n                    }\n                },\n             {\n                    'id':'Consumptions.csv',\n                    'type': 's3',\n                    'connection': {\n                        'endpoint_url': cos_credentials[\"url\"],\n                        'access_key_id': cos_credentials[\"id\"],\n                        'secret_access_key': cos_credentials[\"key\"]\n                    },\n                    'location': {\n                        'bucket': cos_credentials[\"bucket\"],\n                        'path': 'Consumptions.csv'\n                    }\n                },\n        ],\n        'output_data_references': [\n                {\n                    'id':'plan.csv',\n                    'type': 's3',\n                    'connection': {\n                        'endpoint_url': cos_credentials[\"url\"],\n                        'access_key_id': cos_credentials[\"id\"],\n                        'secret_access_key': cos_credentials[\"key\"]\n                    },\n                    'location': {\n                        'bucket': cos_credentials[\"bucket\"],\n                        'path': 'plan.csv'\n                    }\n                },\n                {\n                    'id':'log.txt',\n                    'type': 's3',\n                    'connection': {\n                        'endpoint_url': cos_credentials[\"url\"],\n                        'access_key_id': cos_credentials[\"id\"],\n                        'secret_access_key': cos_credentials[\"key\"]\n                    },\n                    'location': {\n                        'bucket': cos_credentials[\"bucket\"],\n                        'path': 'log.txt'\n                    }\n                }\n            ]\n    }\n}\nr = requests.post(wml_credentials[\"url\"] + '/v4/jobs', headers=mywmlheaders, json=payload)\nres = json.loads(r.text)\njob_uid = res['metadata']['guid']\n\nprint (\"JobId: \" + job_uid)"
        },
        {
            "cell_type": "code",
            "execution_count": 148,
            "metadata": {},
            "outputs": [
                {
                    "name": "stdout",
                    "output_type": "stream",
                    "text": "Executing queued \t\tDuration: 2.59 \tTotal: 12060.06 (sec.)\nExecuting queued \t\tDuration: 1.12 \tTotal: 12061.18 (sec.)\nExecuting queued \t\tDuration: 1.18 \tTotal: 12062.37 (sec.)\nExecuting queued \t\tDuration: 1.11 \tTotal: 12063.48 (sec.)\nExecuting queued \t\tDuration: 1.21 \tTotal: 12064.68 (sec.)\nExecuting queued \t\tDuration: 1.08 \tTotal: 12065.76 (sec.)\nExecuting queued \t\tDuration: 1.11 \tTotal: 12066.88 (sec.)\nExecuting queued \t\tDuration: 1.09 \tTotal: 12067.97 (sec.)\nExecuting queued \t\tDuration: 1.09 \tTotal: 12069.06 (sec.)\nExecuting queued \t\tDuration: 1.08 \tTotal: 12070.14 (sec.)\nExecuting queued \t\tDuration: 1.18 \tTotal: 12071.32 (sec.)\nExecuting queued \t\tDuration: 1.09 \tTotal: 12072.41 (sec.)\nExecuting queued \t\tDuration: 1.09 \tTotal: 12073.5 (sec.)\nExecuting queued \t\tDuration: 1.08 \tTotal: 12074.57 (sec.)\nExecuting queued \t\tDuration: 1.08 \tTotal: 12075.65 (sec.)\nExecuting running \t\tDuration: 1.07 \tTotal: 12076.72 (sec.)\nExecuting running \t\tDuration: 1.22 \tTotal: 12077.94 (sec.)\nExecuting running \t\tDuration: 1.09 \tTotal: 12079.04 (sec.)\nExecuting completed \t\tDuration: 1.09 \tTotal: 12080.12 (sec.)\nEnd of solve \t\tDuration: 0.0 \tTotal: 12080.12 (sec.)\n"
                }
            ],
            "source": "from time import sleep\n\n# MONITOR\n\nexecution_status = \"\"\n\nwhile ((execution_status != \"failed\") & (execution_status != \"completed\")):\n    r = requests.get(wml_credentials[\"url\"] + '/v4/jobs/' + job_uid, headers=mywmlheaders)\n    res = json.loads(r.text)\n    sleep(1)\n    execution_status = res['entity']['decision_optimization']['status']['state']\n    log('Executing ' + execution_status)\n\nlog('End of solve')"
        },
        {
            "cell_type": "code",
            "execution_count": 149,
            "metadata": {},
            "outputs": [
                {
                    "data": {
                        "text/plain": "'SUCCESS'"
                    },
                    "execution_count": 149,
                    "metadata": {},
                    "output_type": "execute_result"
                }
            ],
            "source": "client.deployments.delete(deployment_uid )"
        },
        {
            "cell_type": "code",
            "execution_count": null,
            "metadata": {},
            "outputs": [],
            "source": ""
        }
    ],
    "metadata": {
        "kernelspec": {
            "display_name": "Python 3.6",
            "language": "python",
            "name": "python3"
        },
        "language_info": {
            "codemirror_mode": {
                "name": "ipython",
                "version": 3
            },
            "file_extension": ".py",
            "mimetype": "text/x-python",
            "name": "python",
            "nbconvert_exporter": "python",
            "pygments_lexer": "ipython3",
            "version": "3.6.9"
        }
    },
    "nbformat": 4,
    "nbformat_minor": 1
}